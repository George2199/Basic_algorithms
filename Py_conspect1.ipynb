{
 "cells": [
  {
   "cell_type": "markdown",
   "metadata": {},
   "source": [
    "# Конспект и домашка из [вводного курса](https://youtube.com/playlist?list=PLA0M1Bcd0w8xIdFNA95aQrwJ_GQJEV8ko \"Selfedu - 'уроки Python для начинающих'\")"
   ]
  },
  {
   "cell_type": "markdown",
   "metadata": {},
   "source": [
    "#### Функция определения id объекта и демонстрация прицнипа указателей вместо переменных в Python"
   ]
  },
  {
   "cell_type": "code",
   "execution_count": 2,
   "metadata": {},
   "outputs": [
    {
     "name": "stdout",
     "output_type": "stream",
     "text": [
      "1993630937136 1993630937136\n"
     ]
    }
   ],
   "source": [
    "Hello = '''hello/world'''\n",
    "Hello2 = Hello\n",
    "print(id(Hello), id(Hello2))"
   ]
  },
  {
   "cell_type": "markdown",
   "metadata": {},
   "source": [
    "#### Булевая функция, проверяющая, есть ли строка1 в строке2"
   ]
  },
  {
   "cell_type": "code",
   "execution_count": 4,
   "metadata": {},
   "outputs": [
    {
     "name": "stdout",
     "output_type": "stream",
     "text": [
      "1.  False\n",
      "2.  True\n"
     ]
    }
   ],
   "source": [
    "s = \"qwertyuiop[]asdfghjkl;'zxcvbnm,./\"\n",
    "print(\"1. \", \"Hello\" in s)\n",
    "print(\"2. \", \"[]asd\" in s)"
   ]
  },
  {
   "cell_type": "markdown",
   "metadata": {},
   "source": [
    "#### Элементарный ввод пароля"
   ]
  },
  {
   "cell_type": "code",
   "execution_count": 5,
   "metadata": {},
   "outputs": [
    {
     "name": "stdout",
     "output_type": "stream",
     "text": [
      "Dawn\n",
      "Dawn\n",
      "Dawn\n",
      "Dawn\n",
      "Dawn\n",
      "Вход разрешен\n"
     ]
    }
   ],
   "source": [
    "Hello = \"youare\"\n",
    "while Hello2 != Hello:\n",
    "    print(Hello, \"Dawn\")\n",
    "    Hello2 = input(\"Введи пароль\")\n",
    "else:\n",
    "    print(\"Вход разрешен\")"
   ]
  },
  {
   "cell_type": "markdown",
   "metadata": {},
   "source": [
    "#### Функция определения id символа строки"
   ]
  },
  {
   "cell_type": "code",
   "execution_count": 8,
   "metadata": {},
   "outputs": [
    {
     "name": "stdout",
     "output_type": "stream",
     "text": [
      "1040 1072\n"
     ]
    }
   ],
   "source": [
    "print(ord('А'), ord('а'))"
   ]
  },
  {
   "cell_type": "markdown",
   "metadata": {},
   "source": [
    "#### Срез строки"
   ]
  },
  {
   "cell_type": "code",
   "execution_count": 20,
   "metadata": {},
   "outputs": [
    {
     "name": "stdout",
     "output_type": "stream",
     "text": [
      "цйццйццйц\n",
      "йцйцйцйцйцйц\n",
      "ц\n",
      "цйццйццйц\n"
     ]
    }
   ],
   "source": [
    "Hello, Hello2 = input('Введите строку длиннее 6 символов: '), ''\n",
    "for i in range(3):\n",
    "    Hello2 += Hello[3:6]\n",
    "print(Hello2)\n",
    "print(Hello)\n",
    "print(Hello2[::10])\n",
    "print(Hello2[::-1])"
   ]
  },
  {
   "cell_type": "markdown",
   "metadata": {},
   "source": [
    "#### Вставка символа в строку"
   ]
  },
  {
   "cell_type": "code",
   "execution_count": 17,
   "metadata": {},
   "outputs": [
    {
     "name": "stdout",
     "output_type": "stream",
     "text": [
      "Ggo on, hold me on\n"
     ]
    }
   ],
   "source": [
    "Hello = \"Go on, hold me on\"\n",
    "Hello = Hello[0] +\"g\" + Hello[1:]\n",
    "print(Hello)"
   ]
  },
  {
   "cell_type": "markdown",
   "metadata": {},
   "source": [
    "#### Вывести количество вхождений \"а\" в строке"
   ]
  },
  {
   "cell_type": "code",
   "execution_count": 3,
   "metadata": {},
   "outputs": [
    {
     "name": "stdout",
     "output_type": "stream",
     "text": [
      "Кол-во 'a' в строке: 0\n"
     ]
    }
   ],
   "source": [
    "a = input(\"Введи строку:\")\n",
    "b = 0\n",
    "Hello = \"Кол-во 'a' в строке: \"\n",
    "for i in range(len(a)):\n",
    "    if a[i] == \"a\" or a[i] == \"а\":\n",
    "        b += 1\n",
    "Hello += str(b)\n",
    "print(Hello)"
   ]
  },
  {
   "cell_type": "markdown",
   "metadata": {},
   "source": [
    "#### Удалить все ab из строки"
   ]
  },
  {
   "cell_type": "code",
   "execution_count": 58,
   "metadata": {},
   "outputs": [
    {
     "name": "stdout",
     "output_type": "stream",
     "text": [
      "Строка после удаления всех ab: фийqq\n"
     ]
    }
   ],
   "source": [
    "a = input(\"Введи строку, содержащую 'ab': \")\n",
    "Hello = \"Строка после удаления всех ab: \" + a.replace('ab', '')\n",
    "print(Hello)"
   ]
  },
  {
   "cell_type": "markdown",
   "metadata": {},
   "source": [
    "#### Определить, является ли слово палиндромом"
   ]
  },
  {
   "cell_type": "code",
   "execution_count": 67,
   "metadata": {},
   "outputs": [
    {
     "name": "stdout",
     "output_type": "stream",
     "text": [
      "ОнО   ОнО\n",
      "Это действительно палиндром\n"
     ]
    }
   ],
   "source": [
    "a = input(\"Введи слово-палиндром: \")\n",
    "print(a, ' ', a[::-1])\n",
    "if a == a[::-1]:\n",
    "    Hello = \"Это действительно палиндром\"\n",
    "else:\n",
    "    Hello = \"Это какая-то фигня, а не палиндром\"\n",
    "print(Hello)"
   ]
  },
  {
   "cell_type": "markdown",
   "metadata": {},
   "source": [
    "#### Написать, сколько раз ra появляется в строке (далее реализовано встроенной функцией)"
   ]
  },
  {
   "cell_type": "code",
   "execution_count": 75,
   "metadata": {},
   "outputs": [
    {
     "name": "stdout",
     "output_type": "stream",
     "text": [
      "Все вхождения 'ra': 2\n"
     ]
    }
   ],
   "source": [
    "a = input(\"Введи строку с 'ra': \")\n",
    "b = 0\n",
    "for i in range(2, len(a)):\n",
    "    if 'ra' in a[i:]:\n",
    "        b += 1\n",
    "Hello = \"Все вхождения 'ra': \" + str(b)\n",
    "print(Hello)"
   ]
  },
  {
   "cell_type": "markdown",
   "metadata": {},
   "source": [
    "#### Разбиение предложения на слова"
   ]
  },
  {
   "cell_type": "code",
   "execution_count": 16,
   "metadata": {},
   "outputs": [
    {
     "name": "stdout",
     "output_type": "stream",
     "text": [
      "Предложение, разделенное по словам:\n",
      "Нн\n",
      "нгг\n",
      "ооы\n"
     ]
    }
   ],
   "source": [
    "a = input(\"Введи предложение: \")\n",
    "\n",
    "Hello =\"Предложение, разделенное по словам:\\n\" + a.replace(\" \", '\\n')\n",
    "print(Hello)"
   ]
  },
  {
   "cell_type": "markdown",
   "metadata": {},
   "source": [
    "#### Легко реалезуемый поиск:"
   ]
  },
  {
   "cell_type": "code",
   "execution_count": 95,
   "metadata": {},
   "outputs": [
    {
     "name": "stdout",
     "output_type": "stream",
     "text": [
      "Кол-во вхождений 'q':  2\n"
     ]
    }
   ],
   "source": [
    "a = input(\"Введи строку: \")\n",
    "b = input(\"Введи, что искать в строке: \")\n",
    "print(f\"Кол-во вхождений '{b}': \", a.count(b[:]))"
   ]
  },
  {
   "cell_type": "markdown",
   "metadata": {},
   "source": [
    "#### Разбиение ввода пользователя на отдельные слова и их сбор в строку"
   ]
  },
  {
   "cell_type": "code",
   "execution_count": 15,
   "metadata": {},
   "outputs": [
    {
     "name": "stdout",
     "output_type": "stream",
     "text": [
      "['Е', 'е', 'е', 'е', 'е', 'н', 'н', 'н']\n",
      "Е е е е е н н н\n"
     ]
    }
   ],
   "source": [
    "Hello = str(input('Введите слова через пробел: '))\n",
    "a = Hello.replace('\\n', ' ').split(' ')\n",
    "print(a)\n",
    "a = ' '.join(a)\n",
    "print(a)"
   ]
  },
  {
   "cell_type": "markdown",
   "metadata": {},
   "source": [
    "#### Удаление лишних символов слева и справа функцией strip()"
   ]
  },
  {
   "cell_type": "code",
   "execution_count": 13,
   "metadata": {},
   "outputs": [
    {
     "name": "stdout",
     "output_type": "stream",
     "text": [
      "nnnn\n"
     ]
    }
   ],
   "source": [
    "a = '\\n\\n\\n    nnnn    \\n\\n\\n'\n",
    "print(a.strip())"
   ]
  },
  {
   "cell_type": "markdown",
   "metadata": {},
   "source": [
    "#### Введен ли номер телефона по шаблону \"+x(xxx)xxxxxx\":"
   ]
  },
  {
   "cell_type": "code",
   "execution_count": 130,
   "metadata": {},
   "outputs": [
    {
     "name": "stdout",
     "output_type": "stream",
     "text": [
      "Номер телефона введен неверно\n"
     ]
    }
   ],
   "source": [
    "import re\n",
    "a = input(\"Введите номер телефона. Шаблон: '+x(xxx)xxxxxx': \")\n",
    "if (re.match(\"0-9\", a)) and a[2] == '(' and a[6] == ')' and len(a) == 14:\n",
    "    Hello = 'Все ок'\n",
    "    print(len(a))\n",
    "else:\n",
    "    Hello = 'Номер телефона введен неверно'\n",
    "print(Hello)"
   ]
  },
  {
   "cell_type": "code",
   "execution_count": 132,
   "metadata": {},
   "outputs": [
    {
     "name": "stdout",
     "output_type": "stream",
     "text": [
      "1-2-3\n"
     ]
    }
   ],
   "source": [
    "a = input(\"Введи строку с '+': \")\n",
    "print(a.replace('+', '-').replace(' ', ''))"
   ]
  },
  {
   "cell_type": "markdown",
   "metadata": {},
   "source": [
    "#### Преобразование чисел и их вывод столбиком с отступом"
   ]
  },
  {
   "cell_type": "code",
   "execution_count": 2,
   "metadata": {},
   "outputs": [
    {
     "name": "stdout",
     "output_type": "stream",
     "text": [
      "                   1\n",
      "                   2\n",
      "                   3\n",
      "                   4\n",
      "                   5\n",
      "                   6\n",
      "                   7\n"
     ]
    }
   ],
   "source": [
    "a = input(\"Введите числа через ',': \")\n",
    "a = a.replace(' ', '').replace(',', '\\n')\n",
    "a = a.split('\\n')\n",
    "for i in a:\n",
    "    print(i.rjust(20))"
   ]
  },
  {
   "cell_type": "markdown",
   "metadata": {},
   "source": [
    "#### Подсчет 'ra' в строке 'abrakadabra'"
   ]
  },
  {
   "cell_type": "code",
   "execution_count": 1,
   "metadata": {},
   "outputs": [
    {
     "name": "stdout",
     "output_type": "stream",
     "text": [
      "2\n"
     ]
    }
   ],
   "source": [
    "a = 'abrakadabra'\n",
    "print(a.count('ra'[:]))"
   ]
  },
  {
   "cell_type": "markdown",
   "metadata": {},
   "source": [
    "#### Дублирование ввода пользователя в список"
   ]
  },
  {
   "cell_type": "code",
   "execution_count": 8,
   "metadata": {},
   "outputs": [
    {
     "name": "stdout",
     "output_type": "stream",
     "text": [
      "['1', '1', '2', '2', 'rrr', 'rrr', 't', 't', 'eerr', 'eerr', 'stop', 'stop']\n"
     ]
    }
   ],
   "source": [
    "a, c = [], 0\n",
    "while b != \"end\":\n",
    "    b = input(\"Введите любое значение или end для окончания ввода: \")\n",
    "    if b != \"end\":\n",
    "        c+=1\n",
    "        a.append(b)\n",
    "        a.append(b)\n",
    "    else: break\n",
    "print(a)\n",
    "b = 0"
   ]
  },
  {
   "cell_type": "markdown",
   "metadata": {},
   "source": [
    "#### Сложение двух матриц:"
   ]
  },
  {
   "cell_type": "code",
   "execution_count": 12,
   "metadata": {},
   "outputs": [
    {
     "name": "stdout",
     "output_type": "stream",
     "text": [
      "[[2, 2], [3, 5], [6, 7]]\n"
     ]
    }
   ],
   "source": [
    "a, b = [[1,2], [3, 4], [5, 6]], [[1,0], [0,1], [1,1]]\n",
    "def Proizv(a: list, b: list):\n",
    "    for i in range(len(a)):\n",
    "        for j in range(len(a[i])):\n",
    "            a[i][j] += b[i][j]\n",
    "    return a\n",
    "print(P(a,b))"
   ]
  },
  {
   "cell_type": "markdown",
   "metadata": {},
   "source": [
    "#### Проверка наличия символа 5 в списке"
   ]
  },
  {
   "cell_type": "code",
   "execution_count": 5,
   "metadata": {},
   "outputs": [
    {
     "name": "stdout",
     "output_type": "stream",
     "text": [
      "['1', '2', '3', '4', '5']\n",
      "5 есть в списке\n"
     ]
    }
   ],
   "source": [
    "a, c, b = [], 0, 0\n",
    "while b != \"end\":\n",
    "    b = input(\"Введите любое значение или end для окончания ввода: \")\n",
    "    if b != \"end\":\n",
    "        c+=1\n",
    "        a.append(b)\n",
    "    else: break\n",
    "print(a)\n",
    "if '5' in a:\n",
    "    print(\"5 есть в списке\")\n",
    "else:\n",
    "    print(\"5 нет в списке\")"
   ]
  },
  {
   "cell_type": "markdown",
   "metadata": {},
   "source": [
    "#### Запись в список квадратов чисел, введенных пользователем"
   ]
  },
  {
   "cell_type": "code",
   "execution_count": 6,
   "metadata": {},
   "outputs": [
    {
     "name": "stdout",
     "output_type": "stream",
     "text": [
      "[1, 4, 9, 16, 25, 36, 100]\n"
     ]
    }
   ],
   "source": [
    "a = []\n",
    "while b != 0:\n",
    "    b = int(input(\"Введите любое значение или 0 для окончания ввода: \"))\n",
    "    if b != 0:\n",
    "        b *= b\n",
    "        a.append(b)\n",
    "    else: break\n",
    "print(a)\n",
    "b = 1"
   ]
  },
  {
   "cell_type": "markdown",
   "metadata": {},
   "source": [
    "#### Удаление из списка всех номеров, начинающихся не с '+7'"
   ]
  },
  {
   "cell_type": "code",
   "execution_count": 7,
   "metadata": {},
   "outputs": [
    {
     "name": "stdout",
     "output_type": "stream",
     "text": [
      "['+7912123456', '+7912123456', '+4912123456']\n"
     ]
    }
   ],
   "source": [
    "a = ['+7912123456', '+7912123456', '+6912123456', '+4912123456', '+7912123456']\n",
    "b = []\n",
    "for i in range(len(a)):\n",
    "    if a[i][0:2] != '+7':\n",
    "        b.append(i)\n",
    "for i in range(len(b)):\n",
    "    a.pop(b[i])\n",
    "print(a)\n"
   ]
  },
  {
   "cell_type": "markdown",
   "metadata": {},
   "source": [
    "#### Сдвиг списка на b элементов влево"
   ]
  },
  {
   "cell_type": "code",
   "execution_count": 9,
   "metadata": {},
   "outputs": [
    {
     "name": "stdout",
     "output_type": "stream",
     "text": [
      "[3, 4, 5, 6, 1, 2]\n"
     ]
    }
   ],
   "source": [
    "a = [1, 2, 3, 4, 5, 6]\n",
    "b = int(input('Введите, на сколько элементов влево сдвинуть список: '))\n",
    "for i in range(b):\n",
    "    a.append(a.pop(0))\n",
    "print(a)\n"
   ]
  },
  {
   "cell_type": "markdown",
   "metadata": {},
   "source": [
    "#### Сдвиг списка на b элементов вправо"
   ]
  },
  {
   "cell_type": "code",
   "execution_count": 12,
   "metadata": {},
   "outputs": [
    {
     "name": "stdout",
     "output_type": "stream",
     "text": [
      "[6, 5, 4, 3, 2, 1]\n",
      "[5, 6, 1, 2, 3, 4]\n"
     ]
    }
   ],
   "source": [
    "a = [1, 2, 3, 4, 5, 6]\n",
    "a.reverse()\n",
    "print(a)\n",
    "b=int(input('Введите, на сколько элементов вправо сдвинуть список: '))\n",
    "for i in range(b):\n",
    "    a.append(a.pop(0))\n",
    "a.reverse()\n",
    "print(a)"
   ]
  }
 ],
 "metadata": {
  "kernelspec": {
   "display_name": "Python 3",
   "language": "python",
   "name": "python3"
  },
  "language_info": {
   "codemirror_mode": {
    "name": "ipython",
    "version": 3
   },
   "file_extension": ".py",
   "mimetype": "text/x-python",
   "name": "python",
   "nbconvert_exporter": "python",
   "pygments_lexer": "ipython3",
   "version": "3.11.3"
  },
  "orig_nbformat": 4
 },
 "nbformat": 4,
 "nbformat_minor": 2
}
