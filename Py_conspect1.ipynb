{
 "cells": [
  {
   "cell_type": "markdown",
   "metadata": {},
   "source": [
    "# Конспект и домашка из [вводного курса](https://youtube.com/playlist?list=PLA0M1Bcd0w8xIdFNA95aQrwJ_GQJEV8ko \"Selfedu - 'уроки Python для начинающих'\")"
   ]
  },
  {
   "cell_type": "markdown",
   "metadata": {},
   "source": [
    "#### Функция определения id объекта и демонстрация прицнипа указателей вместо переменных в Python"
   ]
  },
  {
   "cell_type": "code",
   "execution_count": 2,
   "metadata": {},
   "outputs": [
    {
     "name": "stdout",
     "output_type": "stream",
     "text": [
      "1993630937136 1993630937136\n"
     ]
    }
   ],
   "source": [
    "Hello = '''hello/world'''\n",
    "Hello2 = Hello\n",
    "print(id(Hello), id(Hello2))"
   ]
  },
  {
   "cell_type": "markdown",
   "metadata": {},
   "source": [
    "#### Булевая функция, проверяющая, есть ли строка1 в строке2"
   ]
  },
  {
   "cell_type": "code",
   "execution_count": 4,
   "metadata": {},
   "outputs": [
    {
     "name": "stdout",
     "output_type": "stream",
     "text": [
      "1.  False\n",
      "2.  True\n"
     ]
    }
   ],
   "source": [
    "s = \"qwertyuiop[]asdfghjkl;'zxcvbnm,./\"\n",
    "print(\"1. \", \"Hello\" in s)\n",
    "print(\"2. \", \"[]asd\" in s)"
   ]
  },
  {
   "cell_type": "markdown",
   "metadata": {},
   "source": [
    "#### Элементарный ввод пароля"
   ]
  },
  {
   "cell_type": "code",
   "execution_count": 5,
   "metadata": {},
   "outputs": [
    {
     "name": "stdout",
     "output_type": "stream",
     "text": [
      "Dawn\n",
      "Dawn\n",
      "Dawn\n",
      "Dawn\n",
      "Dawn\n",
      "Вход разрешен\n"
     ]
    }
   ],
   "source": [
    "Hello = \"youare\"\n",
    "while Hello2 != Hello:\n",
    "    print(Hello, \"Dawn\")\n",
    "    Hello2 = input(\"Введи пароль\")\n",
    "else:\n",
    "    print(\"Вход разрешен\")"
   ]
  },
  {
   "cell_type": "markdown",
   "metadata": {},
   "source": [
    "#### Функция определения id символа строки"
   ]
  },
  {
   "cell_type": "code",
   "execution_count": 8,
   "metadata": {},
   "outputs": [
    {
     "name": "stdout",
     "output_type": "stream",
     "text": [
      "1040 1072\n"
     ]
    }
   ],
   "source": [
    "print(ord('А'), ord('а'))"
   ]
  },
  {
   "cell_type": "markdown",
   "metadata": {},
   "source": [
    "#### Срез строки"
   ]
  },
  {
   "cell_type": "code",
   "execution_count": 20,
   "metadata": {},
   "outputs": [
    {
     "name": "stdout",
     "output_type": "stream",
     "text": [
      "цйццйццйц\n",
      "йцйцйцйцйцйц\n",
      "ц\n",
      "цйццйццйц\n"
     ]
    }
   ],
   "source": [
    "Hello, Hello2 = input('Введите строку длиннее 6 символов: '), ''\n",
    "for i in range(3):\n",
    "    Hello2 += Hello[3:6]\n",
    "print(Hello2)\n",
    "print(Hello)\n",
    "print(Hello2[::10])\n",
    "print(Hello2[::-1])"
   ]
  },
  {
   "cell_type": "markdown",
   "metadata": {},
   "source": [
    "#### Вставка символа в строку"
   ]
  },
  {
   "cell_type": "code",
   "execution_count": 17,
   "metadata": {},
   "outputs": [
    {
     "name": "stdout",
     "output_type": "stream",
     "text": [
      "Ggo on, hold me on\n"
     ]
    }
   ],
   "source": [
    "Hello = \"Go on, hold me on\"\n",
    "Hello = Hello[0] +\"g\" + Hello[1:]\n",
    "print(Hello)"
   ]
  },
  {
   "cell_type": "markdown",
   "metadata": {},
   "source": [
    "#### Вывести количество вхождений \"а\" в строке"
   ]
  },
  {
   "cell_type": "code",
   "execution_count": 3,
   "metadata": {},
   "outputs": [
    {
     "name": "stdout",
     "output_type": "stream",
     "text": [
      "Кол-во 'a' в строке: 0\n"
     ]
    }
   ],
   "source": [
    "a = input(\"Введи строку:\")\n",
    "b = 0\n",
    "Hello = \"Кол-во 'a' в строке: \"\n",
    "for i in range(len(a)):\n",
    "    if a[i] == \"a\" or a[i] == \"а\":\n",
    "        b += 1\n",
    "Hello += str(b)\n",
    "print(Hello)"
   ]
  },
  {
   "cell_type": "markdown",
   "metadata": {},
   "source": [
    "#### Удалить все ab из строки"
   ]
  },
  {
   "cell_type": "code",
   "execution_count": 58,
   "metadata": {},
   "outputs": [
    {
     "name": "stdout",
     "output_type": "stream",
     "text": [
      "Строка после удаления всех ab: фийqq\n"
     ]
    }
   ],
   "source": [
    "a = input(\"Введи строку, содержащую 'ab': \")\n",
    "Hello = \"Строка после удаления всех ab: \" + a.replace('ab', '')\n",
    "print(Hello)"
   ]
  },
  {
   "cell_type": "markdown",
   "metadata": {},
   "source": [
    "#### Определить, является ли слово палиндромом"
   ]
  },
  {
   "cell_type": "code",
   "execution_count": 67,
   "metadata": {},
   "outputs": [
    {
     "name": "stdout",
     "output_type": "stream",
     "text": [
      "ОнО   ОнО\n",
      "Это действительно палиндром\n"
     ]
    }
   ],
   "source": [
    "a = input(\"Введи слово-палиндром: \")\n",
    "print(a, ' ', a[::-1])\n",
    "if a == a[::-1]:\n",
    "    Hello = \"Это действительно палиндром\"\n",
    "else:\n",
    "    Hello = \"Это какая-то фигня, а не палиндром\"\n",
    "print(Hello)"
   ]
  },
  {
   "cell_type": "markdown",
   "metadata": {},
   "source": [
    "#### Написать, сколько раз ra появляется в строке (далее реализовано встроенной функцией)"
   ]
  },
  {
   "cell_type": "code",
   "execution_count": 75,
   "metadata": {},
   "outputs": [
    {
     "name": "stdout",
     "output_type": "stream",
     "text": [
      "Все вхождения 'ra': 2\n"
     ]
    }
   ],
   "source": [
    "a = input(\"Введи строку с 'ra': \")\n",
    "b = 0\n",
    "for i in range(2, len(a)):\n",
    "    if 'ra' in a[i:]:\n",
    "        b += 1\n",
    "Hello = \"Все вхождения 'ra': \" + str(b)\n",
    "print(Hello)"
   ]
  },
  {
   "cell_type": "markdown",
   "metadata": {},
   "source": [
    "#### Разбиение предложения на слова"
   ]
  },
  {
   "cell_type": "code",
   "execution_count": 16,
   "metadata": {},
   "outputs": [
    {
     "name": "stdout",
     "output_type": "stream",
     "text": [
      "Предложение, разделенное по словам:\n",
      "Нн\n",
      "нгг\n",
      "ооы\n"
     ]
    }
   ],
   "source": [
    "a = input(\"Введи предложение: \")\n",
    "\n",
    "Hello =\"Предложение, разделенное по словам:\\n\" + a.replace(\" \", '\\n')\n",
    "print(Hello)"
   ]
  },
  {
   "cell_type": "markdown",
   "metadata": {},
   "source": [
    "#### Легко реалезуемый поиск:"
   ]
  },
  {
   "cell_type": "code",
   "execution_count": 95,
   "metadata": {},
   "outputs": [
    {
     "name": "stdout",
     "output_type": "stream",
     "text": [
      "Кол-во вхождений 'q':  2\n"
     ]
    }
   ],
   "source": [
    "a = input(\"Введи строку: \")\n",
    "b = input(\"Введи, что искать в строке: \")\n",
    "print(f\"Кол-во вхождений '{b}': \", a.count(b[:]))"
   ]
  },
  {
   "cell_type": "markdown",
   "metadata": {},
   "source": [
    "#### Разбиение ввода пользователя на отдельные слова и их сбор в строку"
   ]
  },
  {
   "cell_type": "code",
   "execution_count": 15,
   "metadata": {},
   "outputs": [
    {
     "name": "stdout",
     "output_type": "stream",
     "text": [
      "['Е', 'е', 'е', 'е', 'е', 'н', 'н', 'н']\n",
      "Е е е е е н н н\n"
     ]
    }
   ],
   "source": [
    "Hello = str(input('Введите слова через пробел: '))\n",
    "a = Hello.replace('\\n', ' ').split(' ')\n",
    "print(a)\n",
    "a = ' '.join(a)\n",
    "print(a)"
   ]
  },
  {
   "cell_type": "markdown",
   "metadata": {},
   "source": [
    "#### Удаление лишних символов слева и справа функцией strip()"
   ]
  },
  {
   "cell_type": "code",
   "execution_count": 13,
   "metadata": {},
   "outputs": [
    {
     "name": "stdout",
     "output_type": "stream",
     "text": [
      "nnnn\n"
     ]
    }
   ],
   "source": [
    "a = '\\n\\n\\n    nnnn    \\n\\n\\n'\n",
    "print(a.strip())"
   ]
  },
  {
   "cell_type": "markdown",
   "metadata": {},
   "source": [
    "#### Введен ли номер телефона по шаблону \"+x(xxx)xxxxxx\":"
   ]
  },
  {
   "cell_type": "code",
   "execution_count": 130,
   "metadata": {},
   "outputs": [
    {
     "name": "stdout",
     "output_type": "stream",
     "text": [
      "Номер телефона введен неверно\n"
     ]
    }
   ],
   "source": [
    "import re\n",
    "a = input(\"Введите номер телефона. Шаблон: '+x(xxx)xxxxxx': \")\n",
    "if (re.match(\"0-9\", a)) and a[2] == '(' and a[6] == ')' and len(a) == 14:\n",
    "    Hello = 'Все ок'\n",
    "    print(len(a))\n",
    "else:\n",
    "    Hello = 'Номер телефона введен неверно'\n",
    "print(Hello)"
   ]
  },
  {
   "cell_type": "code",
   "execution_count": 132,
   "metadata": {},
   "outputs": [
    {
     "name": "stdout",
     "output_type": "stream",
     "text": [
      "1-2-3\n"
     ]
    }
   ],
   "source": [
    "a = input(\"Введи строку с '+': \")\n",
    "print(a.replace('+', '-').replace(' ', ''))"
   ]
  },
  {
   "cell_type": "markdown",
   "metadata": {},
   "source": [
    "#### Преобразование чисел и их вывод столбиком с отступом"
   ]
  },
  {
   "cell_type": "code",
   "execution_count": 2,
   "metadata": {},
   "outputs": [
    {
     "name": "stdout",
     "output_type": "stream",
     "text": [
      "                   1\n",
      "                   2\n",
      "                   3\n",
      "                   4\n",
      "                   5\n",
      "                   6\n",
      "                   7\n"
     ]
    }
   ],
   "source": [
    "a = input(\"Введите числа через ',': \")\n",
    "a = a.replace(' ', '').replace(',', '\\n')\n",
    "a = a.split('\\n')\n",
    "for i in a:\n",
    "    print(i.rjust(20))"
   ]
  },
  {
   "cell_type": "markdown",
   "metadata": {},
   "source": [
    "#### Подсчет 'ra' в строке 'abrakadabra'"
   ]
  },
  {
   "cell_type": "code",
   "execution_count": 1,
   "metadata": {},
   "outputs": [
    {
     "name": "stdout",
     "output_type": "stream",
     "text": [
      "2\n"
     ]
    }
   ],
   "source": [
    "a = 'abrakadabra'\n",
    "print(a.count('ra'[:]))"
   ]
  },
  {
   "cell_type": "markdown",
   "metadata": {},
   "source": [
    "#### Дублирование ввода пользователя в список"
   ]
  },
  {
   "cell_type": "code",
   "execution_count": 8,
   "metadata": {},
   "outputs": [
    {
     "name": "stdout",
     "output_type": "stream",
     "text": [
      "['1', '1', '2', '2', 'rrr', 'rrr', 't', 't', 'eerr', 'eerr', 'stop', 'stop']\n"
     ]
    }
   ],
   "source": [
    "a, c = [], 0\n",
    "while b != \"end\":\n",
    "    b = input(\"Введите любое значение или end для окончания ввода: \")\n",
    "    if b != \"end\":\n",
    "        c+=1\n",
    "        a.append(b)\n",
    "        a.append(b)\n",
    "    else: break\n",
    "print(a)\n",
    "b = 0"
   ]
  },
  {
   "cell_type": "markdown",
   "metadata": {},
   "source": [
    "#### Сложение двух матриц:"
   ]
  },
  {
   "cell_type": "code",
   "execution_count": 12,
   "metadata": {},
   "outputs": [
    {
     "name": "stdout",
     "output_type": "stream",
     "text": [
      "[[2, 2], [3, 5], [6, 7]]\n"
     ]
    }
   ],
   "source": [
    "a, b = [[1,2], [3, 4], [5, 6]], [[1,0], [0,1], [1,1]]\n",
    "def Proizv(a: list, b: list):\n",
    "    for i in range(len(a)):\n",
    "        for j in range(len(a[i])):\n",
    "            a[i][j] += b[i][j]\n",
    "    return a\n",
    "print(P(a,b))"
   ]
  },
  {
   "cell_type": "markdown",
   "metadata": {},
   "source": [
    "#### Проверка наличия символа 5 в списке"
   ]
  },
  {
   "cell_type": "code",
   "execution_count": 5,
   "metadata": {},
   "outputs": [
    {
     "name": "stdout",
     "output_type": "stream",
     "text": [
      "['1', '2', '3', '4', '5']\n",
      "5 есть в списке\n"
     ]
    }
   ],
   "source": [
    "a, c, b = [], 0, 0\n",
    "while b != \"end\":\n",
    "    b = input(\"Введите любое значение или end для окончания ввода: \")\n",
    "    if b != \"end\":\n",
    "        c+=1\n",
    "        a.append(b)\n",
    "    else: break\n",
    "print(a)\n",
    "if '5' in a:\n",
    "    print(\"5 есть в списке\")\n",
    "else:\n",
    "    print(\"5 нет в списке\")"
   ]
  },
  {
   "cell_type": "markdown",
   "metadata": {},
   "source": [
    "#### Запись в список квадратов чисел, введенных пользователем"
   ]
  },
  {
   "cell_type": "code",
   "execution_count": 6,
   "metadata": {},
   "outputs": [
    {
     "name": "stdout",
     "output_type": "stream",
     "text": [
      "[1, 4, 9, 16, 25, 36, 100]\n"
     ]
    }
   ],
   "source": [
    "a = []\n",
    "while b != 0:\n",
    "    b = int(input(\"Введите любое значение или 0 для окончания ввода: \"))\n",
    "    if b != 0:\n",
    "        b *= b\n",
    "        a.append(b)\n",
    "    else: break\n",
    "print(a)\n",
    "b = 1"
   ]
  },
  {
   "cell_type": "markdown",
   "metadata": {},
   "source": [
    "#### Удаление из списка всех номеров, начинающихся не с '+7'"
   ]
  },
  {
   "cell_type": "code",
   "execution_count": 7,
   "metadata": {},
   "outputs": [
    {
     "name": "stdout",
     "output_type": "stream",
     "text": [
      "['+7912123456', '+7912123456', '+4912123456']\n"
     ]
    }
   ],
   "source": [
    "a = ['+7912123456', '+7912123456', '+6912123456', '+4912123456', '+7912123456']\n",
    "b = []\n",
    "for i in range(len(a)):\n",
    "    if a[i][0:2] != '+7':\n",
    "        b.append(i)\n",
    "for i in range(len(b)):\n",
    "    a.pop(b[i])\n",
    "print(a)\n"
   ]
  },
  {
   "cell_type": "markdown",
   "metadata": {},
   "source": [
    "#### Сдвиг списка на b элементов влево"
   ]
  },
  {
   "cell_type": "code",
   "execution_count": 9,
   "metadata": {},
   "outputs": [
    {
     "name": "stdout",
     "output_type": "stream",
     "text": [
      "[3, 4, 5, 6, 1, 2]\n"
     ]
    }
   ],
   "source": [
    "a = [1, 2, 3, 4, 5, 6]\n",
    "b = int(input('Введите, на сколько элементов влево сдвинуть список: '))\n",
    "for i in range(b):\n",
    "    a.append(a.pop(0))\n",
    "print(a)\n"
   ]
  },
  {
   "cell_type": "markdown",
   "metadata": {},
   "source": [
    "#### Сдвиг списка на b элементов вправо"
   ]
  },
  {
   "cell_type": "code",
   "execution_count": 12,
   "metadata": {},
   "outputs": [
    {
     "name": "stdout",
     "output_type": "stream",
     "text": [
      "[6, 5, 4, 3, 2, 1]\n",
      "[5, 6, 1, 2, 3, 4]\n"
     ]
    }
   ],
   "source": [
    "a = [1, 2, 3, 4, 5, 6]\n",
    "a.reverse()\n",
    "print(a)\n",
    "b=int(input('Введите, на сколько элементов вправо сдвинуть список: '))\n",
    "for i in range(b):\n",
    "    a.append(a.pop(0))\n",
    "a.reverse()\n",
    "print(a)"
   ]
  },
  {
   "cell_type": "markdown",
   "metadata": {},
   "source": [
    "### Домашка из [видео 16:](https://youtu.be/z6b_F3OC39s \"Selfedu - Рекурсивные и лямбда-функции\")"
   ]
  },
  {
   "cell_type": "markdown",
   "metadata": {},
   "source": [
    "#### Функция нахождения факториала:"
   ]
  },
  {
   "cell_type": "code",
   "execution_count": null,
   "metadata": {},
   "outputs": [
    {
     "name": "stdout",
     "output_type": "stream",
     "text": [
      "720\n"
     ]
    }
   ],
   "source": [
    "def fac(n):\n",
    "    if n == 1: return n\n",
    "    else: return n*fac(n-1)\n",
    "print(fac(6))\n"
   ]
  },
  {
   "cell_type": "markdown",
   "metadata": {},
   "source": [
    "#### Функция нахождения среднего арифметического поданных ей аргументов:"
   ]
  },
  {
   "cell_type": "code",
   "execution_count": null,
   "metadata": {},
   "outputs": [
    {
     "name": "stdout",
     "output_type": "stream",
     "text": [
      "166.66666666666666\n"
     ]
    }
   ],
   "source": [
    "def ma(*args):\n",
    "    S = 0\n",
    "    for i in args:\n",
    "        S += i\n",
    "    return S / (len(args))\n",
    "print(ma(1000, 500, -1000))"
   ]
  },
  {
   "cell_type": "markdown",
   "metadata": {},
   "source": [
    "#### Функция вывода тех элементов произвольного списка, которые удовлетворяют условиям селектора, при этом вывод элементов осуществляется от большего к меньшему:"
   ]
  },
  {
   "cell_type": "code",
   "execution_count": null,
   "metadata": {},
   "outputs": [
    {
     "name": "stdout",
     "output_type": "stream",
     "text": [
      "[100]\n",
      "[765, 7401]\n"
     ]
    }
   ],
   "source": [
    "def sort(*args, selector):\n",
    "    b = list(filter(selector, args))\n",
    "    b = sorted(b)\n",
    "    print(b)\n",
    "\n",
    "sort(100, 8, 12, -8, selector=lambda x: True if x % 50 == 0 else False)\n",
    "sort(1002, 7401, 120, -800, 765, selector=lambda x: True if x % 2 != 0 else False)"
   ]
  },
  {
   "cell_type": "markdown",
   "metadata": {},
   "source": [
    "### Домашка из [видео 17:](https://youtu.be/8HvcVQWR2gY \"Selfedu - алгоритм Евклида, принцип тестирования программ\")"
   ]
  },
  {
   "cell_type": "code",
   "execution_count": null,
   "metadata": {},
   "outputs": [],
   "source": []
  },
  {
   "cell_type": "markdown",
   "metadata": {},
   "source": [
    "#### Реализация варианта алгоритма Евклида с помощью рекурсивной функции:"
   ]
  },
  {
   "cell_type": "code",
   "execution_count": null,
   "metadata": {},
   "outputs": [
    {
     "name": "stdout",
     "output_type": "stream",
     "text": [
      "80\n"
     ]
    }
   ],
   "source": [
    "def NOD(a, b):\n",
    "    if a<b:\n",
    "        a, b = b, a\n",
    "    \n",
    "    a,b = b, a%b\n",
    "    while b>0:\n",
    "        return NOD(a, b)\n",
    "    return a\n",
    "\n",
    "print(NOD(160, 400))"
   ]
  },
  {
   "cell_type": "markdown",
   "metadata": {},
   "source": [
    "#### Функция для нахождения максимального значения среди переданных аргументов:"
   ]
  },
  {
   "cell_type": "code",
   "execution_count": null,
   "metadata": {},
   "outputs": [
    {
     "name": "stdout",
     "output_type": "stream",
     "text": [
      "600\n"
     ]
    }
   ],
   "source": [
    "def maxArg(*args):\n",
    "    a = list(args)\n",
    "    b = a[0]\n",
    "    for i in a:\n",
    "        if b < i:\n",
    "            b = i\n",
    "    return b\n",
    "\n",
    "print(maxArg(7, -100, 600, 500))"
   ]
  },
  {
   "cell_type": "markdown",
   "metadata": {},
   "source": [
    "#### Функция для нахождения максимального или минимального значения среди переданных аргументов с помощью функции-селектора:"
   ]
  },
  {
   "cell_type": "code",
   "execution_count": null,
   "metadata": {},
   "outputs": [
    {
     "name": "stdout",
     "output_type": "stream",
     "text": [
      "8000000\n"
     ]
    }
   ],
   "source": [
    "def maxArgSel(*args, selector):\n",
    "    a = list(args)\n",
    "    b = a[0]\n",
    "    for i in a:\n",
    "        if selector(b, i):\n",
    "            b = i\n",
    "    return b\n",
    "print(maxArgSel(400, 1, -100, -9000, 8000000, selector=lambda x, y: True if x < y else False ))"
   ]
  },
  {
   "cell_type": "markdown",
   "metadata": {},
   "source": [
    "### Домашка из [видео 19:](https://youtu.be/Qul_UT5nYrw \"Selfedu - множества и операции над ними\")"
   ]
  },
  {
   "cell_type": "markdown",
   "metadata": {},
   "source": [
    "#### Функция нахождения числа уникальных слов в строке (слова разделяются пробелом):"
   ]
  },
  {
   "cell_type": "code",
   "execution_count": null,
   "metadata": {},
   "outputs": [
    {
     "name": "stdout",
     "output_type": "stream",
     "text": [
      "6\n"
     ]
    }
   ],
   "source": [
    "def kolvoSlov(string):\n",
    "    a = set(string.split())\n",
    "    print(len(a))\n",
    "kolvoSlov('j j j j j p o i q w')"
   ]
  },
  {
   "cell_type": "markdown",
   "metadata": {},
   "source": [
    "### Домашка из [видео 20:](https://youtu.be/VxLzxh9B8EE \"Selfedu - Выражения-генераторы, функции-генераторы\")"
   ]
  },
  {
   "cell_type": "markdown",
   "metadata": {},
   "source": [
    "#### Функция-генератор, которая выделяет слова из текста, не создавая список:"
   ]
  },
  {
   "cell_type": "code",
   "execution_count": null,
   "metadata": {},
   "outputs": [
    {
     "name": "stdout",
     "output_type": "stream",
     "text": [
      "Генератор\n",
      "-\n",
      "это\n",
      "итератор,\n",
      "элементы\n",
      "которого\n",
      "можно\n",
      "перебирать\n",
      "(итерировать)\n",
      "только\n",
      "один\n",
      "раз.\n",
      "Итератор\n",
      "-\n",
      "это\n",
      "объект,\n",
      "который\n",
      "поддерживает\n",
      "функцию\n",
      "next()\n",
      "для\n",
      "перехода\n",
      "к\n"
     ]
    }
   ],
   "source": [
    "t = \"\"\"Генератор - это итератор, элементы которого\\nможно перебирать (итерировать) только один раз.\n",
    "Итератор - это объект, который поддерживает функцию next()\\nдля перехода к следующему элементу коллекции.\"\"\"\n",
    "\n",
    "def vid(string):\n",
    "    res = ''\n",
    "    for x in range(len(t)):\n",
    "        if t[x] != ' ':\n",
    "            res += t[x]\n",
    "        else:\n",
    "            yield res\n",
    "            res =''\n",
    "\n",
    "f = vid(t)\n",
    "\n",
    "for i in range(20):\n",
    "    print( next(f) )"
   ]
  },
  {
   "cell_type": "markdown",
   "metadata": {},
   "source": [
    "### Домашка из [видео 21:](https://youtu.be/VxLzxh9B8EE \"Selfedu - Функции map, filter, zip\")"
   ]
  },
  {
   "cell_type": "markdown",
   "metadata": {},
   "source": [
    "#### Поставить в соответствие символы: h-х, e-е, l-л, o-о, w-в, r-р, d-д и преобразовать строку \"hello world!\":"
   ]
  },
  {
   "cell_type": "code",
   "execution_count": null,
   "metadata": {},
   "outputs": [
    {
     "name": "stdout",
     "output_type": "stream",
     "text": [
      "хелло ворлд!\n"
     ]
    }
   ],
   "source": [
    "def inRussian(string):\n",
    "    items = ('hх', 'eе', 'lл', 'oо', 'wв', 'rр', 'dд')\n",
    "    alpha = dict(items)\n",
    "    for i in alpha.keys():\n",
    "        string = string.replace(i, str(alpha[i]))\n",
    "\n",
    "    return string\n",
    "   \n",
    "print(inRussian('hello world!'))"
   ]
  },
  {
   "cell_type": "markdown",
   "metadata": {},
   "source": [
    "#### Дан текст. Выделить каждое второе слово и представить в виде упорядоченного списка. Реализовать с наименьшими затратами по памяти (затраты памяти не наименьшие):"
   ]
  },
  {
   "cell_type": "code",
   "execution_count": null,
   "metadata": {},
   "outputs": [
    {
     "name": "stdout",
     "output_type": "stream",
     "text": [
      "136\n"
     ]
    }
   ],
   "source": [
    "def txt():\n",
    "    t = \"\"\"Аа Бб Вв Гг Дд\n",
    "    УУУууУ\"\"\"\n",
    "    lst = t.split()\n",
    "    lst = lst[::2]\n",
    "    return lst\n",
    "print(txt.__sizeof__())"
   ]
  },
  {
   "cell_type": "markdown",
   "metadata": {},
   "source": [
    "#### Реализовать функцию нахождения всех делителей натурального числа и оптимизировать ее (не оптимизировал):"
   ]
  },
  {
   "cell_type": "code",
   "execution_count": null,
   "metadata": {},
   "outputs": [
    {
     "name": "stdout",
     "output_type": "stream",
     "text": [
      "[1, 2, 4, 5, 10, 20, 25, 50, 100, 125, 250, 500]\n"
     ]
    }
   ],
   "source": [
    "def dist():\n",
    "    N = int(input('Введите число, для которого нужно найти все делители: '))\n",
    "    lst = list(filter(lambda x: N%x==0, (x for x in range(1,N+1))))\n",
    "    return lst\n",
    "print(dist())"
   ]
  },
  {
   "cell_type": "markdown",
   "metadata": {},
   "source": [
    "### Домашка из [видео 22:](https://youtu.be/uvlKcOS4OQw \"Selfedu - sort() и sorted(), сортировка по ключам\")"
   ]
  },
  {
   "cell_type": "markdown",
   "metadata": {},
   "source": [
    "#### Используя сортировку, найти три наименьшие значения в списке, не изменяя список:"
   ]
  },
  {
   "cell_type": "code",
   "execution_count": null,
   "metadata": {},
   "outputs": [
    {
     "name": "stdout",
     "output_type": "stream",
     "text": [
      "[-17, -9, 1]\n"
     ]
    }
   ],
   "source": [
    "def threeMin(lst):\n",
    "    l = sorted(lst)\n",
    "    return l[:3]\n",
    "\n",
    "print(threeMin([1, 2, 3, -9, -17]))"
   ]
  },
  {
   "cell_type": "markdown",
   "metadata": {},
   "source": [
    "#### Отсортировать список так, чтобы сначала шли отрицательные числа, а потом положительные:"
   ]
  },
  {
   "cell_type": "code",
   "execution_count": null,
   "metadata": {},
   "outputs": [
    {
     "name": "stdout",
     "output_type": "stream",
     "text": [
      "[-10, -2, -8, 0, 7, 3, 6]\n"
     ]
    }
   ],
   "source": [
    "digs = (-10, 0, 7, -2, 3, 6, -8)\n",
    "lst = sorted(digs, key=lambda x: x>=0)\n",
    "print(lst)"
   ]
  },
  {
   "cell_type": "markdown",
   "metadata": {},
   "source": [
    "#### Имеется словарь. Вывести телефонные номера по убыванию чисел, указанных в ключах:"
   ]
  },
  {
   "cell_type": "code",
   "execution_count": null,
   "metadata": {},
   "outputs": [
    {
     "name": "stdout",
     "output_type": "stream",
     "text": [
      "['+12', '+4', '+5', '+6', '+7']\n",
      "\n"
     ]
    }
   ],
   "source": [
    "a = {'+7': 944123456, '+5': 912125556, '+6': 916623456, '+4': 913323456, '+12': 988123456}\n",
    "lst = sorted(a, key=lambda x: int(x[1]))\n",
    "print(lst)\n",
    "print()"
   ]
  },
  {
   "cell_type": "markdown",
   "metadata": {},
   "source": [
    "### Домашка из [видео 23:](https://youtu.be/Ccry8wMJ39o \"Selfedu - обработка исключений: try, except, finally, else\")"
   ]
  },
  {
   "cell_type": "markdown",
   "metadata": {},
   "source": [
    "#### Программа ввода натуральных чисел через запятую и преобразование их в список целых чисел с обработкой возможных исключений:"
   ]
  },
  {
   "cell_type": "code",
   "execution_count": null,
   "metadata": {},
   "outputs": [
    {
     "name": "stdout",
     "output_type": "stream",
     "text": [
      "invalid literal for int() with base 10: 'a'\n"
     ]
    }
   ],
   "source": [
    "def inputNumbers():\n",
    "    try: \n",
    "        numbers = input(\"Введите целые числа через запятую: \").split(',')\n",
    "        numbers = list(map(int, numbers))\n",
    "    except ValueError as v:\n",
    "        print(v)\n",
    "    else: print(numbers)\n",
    "inputNumbers()"
   ]
  },
  {
   "cell_type": "markdown",
   "metadata": {},
   "source": [
    "#### Программа подсчета среднего арифметического чисел с обработкой возможных исключений:"
   ]
  },
  {
   "cell_type": "code",
   "execution_count": null,
   "metadata": {},
   "outputs": [
    {
     "data": {
      "text/plain": [
       "1.0"
      ]
     },
     "metadata": {},
     "output_type": "display_data"
    }
   ],
   "source": [
    "def midArifm(lst):\n",
    "    try:\n",
    "        mid = 0\n",
    "        for i in lst:\n",
    "            mid += i\n",
    "        return mid/len(lst)\n",
    "    except ValueError as v:\n",
    "        print(v)\n",
    "    except SyntaxError as v:\n",
    "        print(v)\n",
    "    except TypeError as v:\n",
    "        print(v)\n",
    "    except ZeroDivisionError as v:\n",
    "        print(v)\n",
    "midArifm([1])"
   ]
  },
  {
   "cell_type": "markdown",
   "metadata": {},
   "source": [
    "#### Функция-генератор для удаления произвольного элемента из множества, которая возвращает значение удаленного элемента с реализацией обработки возможных исключений"
   ]
  },
  {
   "cell_type": "code",
   "execution_count": null,
   "metadata": {},
   "outputs": [
    {
     "name": "stdout",
     "output_type": "stream",
     "text": [
      "0\n",
      "'pop from an empty set'\n",
      "\n",
      "set()\n"
     ]
    }
   ],
   "source": [
    "def generator(st):\n",
    "    try:\n",
    "        yield st.pop()\n",
    "    except KeyError as v:\n",
    "        print(v)\n",
    "    \n",
    "a = set([0])\n",
    "try:\n",
    "    print( next(generator(a)) )\n",
    "    print( next(generator(a)) )\n",
    "    print( next(generator(a)) )\n",
    "except StopIteration as v:\n",
    "    print(v)\n",
    "print(a)"
   ]
  },
  {
   "cell_type": "markdown",
   "metadata": {},
   "source": [
    "### Домашка из [видео 24:](https://youtu.be/bnxlN1veGzk \"Selfedu - файлы: чтение и запись\")"
   ]
  },
  {
   "cell_type": "markdown",
   "metadata": {},
   "source": [
    "#### Прочитать через один не более 100 символов в тексовом файле и записать прочитанное в другой текстовый файл:"
   ]
  },
  {
   "cell_type": "code",
   "execution_count": null,
   "metadata": {},
   "outputs": [],
   "source": [
    "with open(\"1.txt\", encoding=\"utf-8\") as file:\n",
    "    a = ''\n",
    "    for i in range(100):\n",
    "        a += file.read(1)\n",
    "        file.read(1)\n",
    "    with open(\"2.txt\", 'w') as file2:\n",
    "        file2.write(a)"
   ]
  },
  {
   "cell_type": "markdown",
   "metadata": {},
   "source": [
    "#### Пользователь вводит слова через пробел с клавиатуры. Разбить ввод по словам и сохранить как столбец в файл:"
   ]
  },
  {
   "cell_type": "code",
   "execution_count": null,
   "metadata": {},
   "outputs": [],
   "source": [
    "string = input(\"Введите слова через пробел\").split()\n",
    "with open(\"3.txt\", 'w') as file:\n",
    "    for i in string:\n",
    "        file.write(i + '\\n')"
   ]
  },
  {
   "cell_type": "markdown",
   "metadata": {},
   "source": [
    "#### Есть словарь. Необходимо каждый его элемент сохранить в бинарном файле как объект. Затем, прочитать и вывести считанные объекты в консоль:"
   ]
  },
  {
   "cell_type": "code",
   "execution_count": null,
   "metadata": {},
   "outputs": [
    {
     "name": "stdout",
     "output_type": "stream",
     "text": [
      "house\n",
      "car\n",
      "tree\n",
      "road\n",
      "river\n",
      "дом\n",
      "машина\n",
      "дерево\n",
      "дорога\n",
      "река\n",
      "\n"
     ]
    }
   ],
   "source": [
    "import pickle\n",
    "d = {\"house\": \"дом\", \"car\": \"машина\", \"tree\": \"дерево\", \"road\": \"дорога\", \"river\": \"река\"}\n",
    "a, b = '', ''\n",
    "with open(\"out.bin\", 'wb') as file:\n",
    "    for i, j in d.items():\n",
    "        a += i+'\\n'\n",
    "        b += j+'\\n'\n",
    "    pickle.dump(a+b, file)\n",
    "with open(\"out.bin\", \"rb\") as file:\n",
    "    bo = pickle.load(file)\n",
    "    print(bo)"
   ]
  },
  {
   "cell_type": "markdown",
   "metadata": {},
   "source": [
    "### Домашка из [видео 25:](https://youtu.be/ZzWdGLuq69E \"Selfedu - format и f-строки\")"
   ]
  },
  {
   "cell_type": "markdown",
   "metadata": {},
   "source": [
    "#### Пользователь вводит ФИО через пробел. На основе этих данных создать строку с сообщением:"
   ]
  },
  {
   "cell_type": "code",
   "execution_count": null,
   "metadata": {},
   "outputs": [
    {
     "name": "stdout",
     "output_type": "stream",
     "text": [
      "Ваши персональные данные:\n",
      "Фамилия: Иванов\n",
      "Имя: Тургений\n",
      "Отчество: Олег\n"
     ]
    }
   ],
   "source": [
    "fio = input(\"Введите через пробел фамлию, имя и отчество: \").split()\n",
    "msg = f\"Ваши персональные данные:\\nФамилия: {fio[0]}\\nИмя: {fio[1]}\\nОтчество: {fio[2]}\"\n",
    "print(msg)"
   ]
  },
  {
   "cell_type": "markdown",
   "metadata": {},
   "source": [
    "#### Есть текстовый файл с содержимым \"Name, email, age\" необходимо построчно считать информацию и для каждого лица не старше 30 лет сформировать сообщение:"
   ]
  },
  {
   "cell_type": "code",
   "execution_count": null,
   "metadata": {},
   "outputs": [
    {
     "name": "stdout",
     "output_type": "stream",
     "text": [
      "[['Иван', 'ivan@gm.com', '18'], ['Татьяна', 'tat@gm.com', '22'], ['Сергей', 'srg@ml.ru', '33'], ['Федор', 'fr@ml.ru', '41'], ['Елена', 'el@gm.com', '27']]\n",
      "Уважаемый(ая) Иван! Приглашаем Вас принять участие в курсах по изучению Python. Подробную информацию мы выслали на email: ivan@gm.com\n",
      "Уважаемый(ая) Татьяна! Приглашаем Вас принять участие в курсах по изучению Python. Подробную информацию мы выслали на email: tat@gm.com\n",
      "Уважаемый(ая) Елена! Приглашаем Вас принять участие в курсах по изучению Python. Подробную информацию мы выслали на email: el@gm.com\n"
     ]
    }
   ],
   "source": [
    "with open(\"4.txt\", encoding='utf-8') as file:\n",
    "    lst, a = [], ''\n",
    "    \n",
    "    for i in range(5):\n",
    "        a = file.readline()\n",
    "        lst.append(a.replace(' ', '').replace('\\n', '').split(','))\n",
    "    print(lst)\n",
    "for i in lst:\n",
    "    if int(i[2]) <= 30:\n",
    "        msg = f\"Уважаемый(ая) {i[0]}! Приглашаем Вас принять участие в курсах по изучению Python. Подробную информацию мы выслали на email: {i[1]}\"\n",
    "        print(msg)"
   ]
  },
  {
   "cell_type": "markdown",
   "metadata": {},
   "source": [
    "### Домашка из [видео 26:](https://youtu.be/M1EU-cR7-6s \"Selfedu - создание модулей\")"
   ]
  },
  {
   "cell_type": "markdown",
   "metadata": {},
   "source": [
    "#### Создать модуль с двумя функциями, которые вычисляли бы периметр и площадь прямоугольника. Подключить модуль к основной программе и вызвать эти функции с аргументами, введенными с клавиатуры:"
   ]
  },
  {
   "cell_type": "code",
   "execution_count": null,
   "metadata": {},
   "outputs": [
    {
     "name": "stdout",
     "output_type": "stream",
     "text": [
      "30\n",
      "392.0\n"
     ]
    }
   ],
   "source": [
    "import rectangle as rec\n",
    "print(rec.square(6, 9))\n",
    "print(rec.area(40, 9.8))"
   ]
  },
  {
   "cell_type": "markdown",
   "metadata": {},
   "source": [
    "##### Задать модуль со словарем, в котором ключи - английские слова, а значения - соответствующие переводы. Прописать функции для добавления и удаления слов в этом словаре. Импортировать модуль в программу и добавить функции \"Перевести слово\" и \"Завершить работу\" (почему-то не работает перевод):"
   ]
  },
  {
   "cell_type": "code",
   "execution_count": null,
   "metadata": {},
   "outputs": [
    {
     "name": "stdout",
     "output_type": "stream",
     "text": [
      "{'on': 'на', 'north': 'север', 'wild': 'дикий', 'is standing': 'стоит', 'lonely': 'одиноко', 'naked': 'голый', 'top': 'вершина', 'pine tree': 'сосна', 'and': 'и', 'but': ',но', 'napping': 'дремлет', 'no': 'нет'}\n",
      "{'on': 'на', 'north': 'север', 'wild': 'дикий', 'is standing': 'стоит', 'lonely': 'одиноко', 'naked': 'голый', 'top': 'вершина', 'pine tree': 'сосна', 'and': 'и', 'but': ',но', 'napping': 'дремлет'}\n",
      "No specious splendour of this stone Endears it to my memory ever; With lustre only once it shone, And blushes modest as the giver\n"
     ]
    }
   ],
   "source": [
    "import dictionary as d\n",
    "def add(key, word):\n",
    "    d.words.update({key : word})\n",
    "def delete(key):\n",
    "    del d.words[key]\n",
    "def translate(text):\n",
    "    text = text.split()\n",
    "    for i in range(len(text)):\n",
    "        if text[i] in d.words:\n",
    "            print(i)\n",
    "            text[i] = d.words[i]\n",
    "    text = \" \".join(text)\n",
    "    print(text)\n",
    "\n",
    "add(\"no\", \"нет\")\n",
    "print(d.words)\n",
    "delete('no')\n",
    "print(d.words)\n",
    "\n",
    "translate(\"\"\"No specious splendour of this stone\n",
    "Endears it to my memory ever;\n",
    "With lustre only once it shone,\n",
    "And blushes modest as the giver\"\"\")"
   ]
  },
  {
   "cell_type": "markdown",
   "metadata": {},
   "source": [
    "### Домашка из [видео 28:](https://youtu.be/TdeZKWBppo4 \"Selfedu - декораторы функций и замыкания\")"
   ]
  },
  {
   "cell_type": "markdown",
   "metadata": {},
   "source": [
    "#### Написать две функции создания списка из четных чисел от 0 до N. Через декоратор определить время работы функций:"
   ]
  },
  {
   "cell_type": "code",
   "execution_count": null,
   "metadata": {},
   "outputs": [
    {
     "name": "stdout",
     "output_type": "stream",
     "text": [
      "[0, 2, 4, 6, 8]\n",
      "[0, 2, 4, 6, 8]\n",
      "Время работы: 4.481046915054321 сек\n",
      "Время работы: 5.716225624084473 сек\n"
     ]
    }
   ],
   "source": [
    "import time\n",
    "def lst1(N):\n",
    "    lst = []\n",
    "    for i in range(0, N, 2):\n",
    "        lst.append(i)\n",
    "    return lst\n",
    "def lst2(N):\n",
    "    lst = list(i for i in range(0, N, 2))\n",
    "    return lst\n",
    "def dec(func):\n",
    "    def tm(*args, **kwords):\n",
    "        st = time.time()\n",
    "        func(*args, **kwords)\n",
    "        rt = time.time() - st\n",
    "        print(f\"Время работы: {rt} сек\")\n",
    "    return tm\n",
    "\n",
    "print(lst1(10))\n",
    "print(lst2(10))\n",
    "test1 = dec(lst1)\n",
    "test1(99999999)\n",
    "test2 = dec(lst2)\n",
    "test2(99999999)"
   ]
  },
  {
   "cell_type": "markdown",
   "metadata": {},
   "source": [
    "#### Написать декоратор для кэширования результатов работы функции. При повторном вызове результат должен браться из кэша (нужно дописать):"
   ]
  },
  {
   "cell_type": "code",
   "execution_count": null,
   "metadata": {},
   "outputs": [
    {
     "data": {
      "text/plain": [
       "<function __main__.cache.<locals>.temp(*args, **kwords)>"
      ]
     },
     "metadata": {},
     "output_type": "display_data"
    }
   ],
   "source": [
    "def cache(func):\n",
    "    def temp(*args, **kwords):\n",
    "        st = time.time()\n",
    "        a = func(*args, **kwords)\n",
    "        rt = time.time() - st\n",
    "        print(f\"Время работы: {rt} сек\")\n",
    "        return a\n",
    "    return temp\n",
    "def sqsq(x):\n",
    "    res = x\n",
    "    if x>0 and x is int:\n",
    "        res = x/x\n",
    "    return res\n",
    "\n",
    "test = cache(sqsq(10))\n",
    "test1 = cache(sqsq(10))\n",
    "test\n",
    "test1"
   ]
  },
  {
   "cell_type": "markdown",
   "metadata": {},
   "source": [
    "### Домашка из [видео 30:](https://youtu.be/xmRnm8bafwI \"Selfedu - функция enumerate\")"
   ]
  },
  {
   "cell_type": "markdown",
   "metadata": {},
   "source": [
    "#### Перебрать все элементы квадратной матрицы с помощью enumerate и заменить на \"0\" элементы, стоящие на главной диагонали:"
   ]
  },
  {
   "cell_type": "code",
   "execution_count": null,
   "metadata": {},
   "outputs": [
    {
     "name": "stdout",
     "output_type": "stream",
     "text": [
      "[[0, 2, 3], [4, 0, 6], [7, 8, 0]]\n"
     ]
    }
   ],
   "source": [
    "A = [[1,2,3], [4,5,6], [7,8,9]]\n",
    "for j in range(len(A)):\n",
    "    for i, x in enumerate(A[j]):\n",
    "        if i == j:\n",
    "            A[j][i] = 0\n",
    "print(A)"
   ]
  },
  {
   "cell_type": "markdown",
   "metadata": {},
   "source": [
    "#### Написать функцию, которая будет работать аналогично enumerate для всех типов, но для словарей возвращать индекс, ключ и значение:"
   ]
  },
  {
   "cell_type": "code",
   "execution_count": null,
   "metadata": {},
   "outputs": [
    {
     "name": "stdout",
     "output_type": "stream",
     "text": [
      "(0, 'r', 'р')\n"
     ]
    }
   ],
   "source": [
    "def enumerate2(sequence, start=0):\n",
    "    n = start\n",
    "    if type(sequence) is dict:\n",
    "        for key, value in sequence.items():\n",
    "            yield n, key, value\n",
    "            n += 1\n",
    "    for elem in sequence:\n",
    "        yield n, elem\n",
    "        n += 1\n",
    "\n",
    "a = {\"r\" : \"р\"}\n",
    "b = enumerate2(a)\n",
    "print( next(b) )"
   ]
  },
  {
   "cell_type": "markdown",
   "metadata": {},
   "source": [
    "#### Написать свою функцию enumerate, которая позволила бы перебирать одним циклом двумерные упорядоченные списки и возращала бы значения: строка, столбец, значение:"
   ]
  },
  {
   "cell_type": "code",
   "execution_count": null,
   "metadata": {},
   "outputs": [
    {
     "name": "stdout",
     "output_type": "stream",
     "text": [
      "(0, 0, 1)\n",
      "(0, 1, 2)\n",
      "(0, 2, 3)\n",
      "(1, 0, 4)\n",
      "(1, 1, 5)\n",
      "(1, 2, 6)\n"
     ]
    }
   ],
   "source": [
    "def enumerate2d(sequence, startL=0, startC=0):\n",
    "    line, column = startL, startC\n",
    "    for line in range(len(sequence)):\n",
    "        for column in range(len(sequence[line])):\n",
    "            yield line, column, sequence[line][column]\n",
    "\n",
    "A = [[1,2,3], [4,5,6]]\n",
    "\n",
    "for i in enumerate2d(A):\n",
    "    print(i)\n"
   ]
  }
 ],
 "metadata": {
  "kernelspec": {
   "display_name": "Python 3",
   "language": "python",
   "name": "python3"
  },
  "language_info": {
   "codemirror_mode": {
    "name": "ipython",
    "version": 3
   },
   "file_extension": ".py",
   "mimetype": "text/x-python",
   "name": "python",
   "nbconvert_exporter": "python",
   "pygments_lexer": "ipython3",
   "version": "3.11.3"
  },
  "orig_nbformat": 4
 },
 "nbformat": 4,
 "nbformat_minor": 2
}
